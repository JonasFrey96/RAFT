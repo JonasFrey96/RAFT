{
 "cells": [
  {
   "cell_type": "code",
   "execution_count": 1,
   "id": "22e1a394",
   "metadata": {},
   "outputs": [],
   "source": [
    "import pickle\n",
    "import numpy as np \n",
    "import scipy.io as scio\n",
    "import os \n",
    "\n",
    "with open( \"/home/jonfrey/RPOSE/cfg/datasets/ycb/test.pkl\", \"rb\") as f:\n",
    "    res = pickle.load(f)\n",
    "np.unique( res['base_path_list'] ).shape, len( res['base_path_list'])\n",
    "\n",
    "paths = np.unique( res['base_path_list'] ).tolist()\n",
    "base = \"/media/scratch2/jonfrey/ycb\""
   ]
  },
  {
   "cell_type": "code",
   "execution_count": 2,
   "id": "8ed56741",
   "metadata": {},
   "outputs": [],
   "source": [
    "data = []\n",
    "\n",
    "\n",
    "for j, pa in enumerate( paths ):\n",
    "    if j > 100: break\n",
    "    \n",
    "    pa = os.path.join( base, pa+'-meta.mat' )\n",
    "    meta = scio.loadmat( pa )\n",
    "    \n",
    "    for k,i in enumerate( meta['cls_indexes'][:,0].tolist()):\n",
    "        data.append( { 'pose': meta['poses'][:,:,k],\n",
    "                       'index': i, \n",
    "                       'scene_indexes': meta['cls_indexes'][:,0] } )"
   ]
  },
  {
   "cell_type": "code",
   "execution_count": 3,
   "id": "c71532ea",
   "metadata": {},
   "outputs": [],
   "source": [
    "poses = np.array( [d['pose'] for d in data])\n",
    "indexes = np.array( [d['index'] for d in data])\n",
    "scene_indexes = np.array( [d['scene_indexes'] for d in data] )"
   ]
  },
  {
   "cell_type": "code",
   "execution_count": 4,
   "id": "c43c73d0",
   "metadata": {},
   "outputs": [
    {
     "data": {
      "text/plain": [
       "array([ 1,  6, 14, 19, 20], dtype=uint8)"
      ]
     },
     "execution_count": 4,
     "metadata": {},
     "output_type": "execute_result"
    }
   ],
   "source": [
    "data[0]['scene_indexes']"
   ]
  },
  {
   "cell_type": "code",
   "execution_count": 5,
   "id": "d68ef585",
   "metadata": {},
   "outputs": [
    {
     "name": "stderr",
     "output_type": "stream",
     "text": [
      "<ipython-input-5-46c965cc334e>:7: RuntimeWarning: Mean of empty slice.\n",
      "  me = poses[mask][:,:,3].mean(axis=0)\n",
      "/home/jonfrey/miniconda3/envs/track4/lib/python3.8/site-packages/numpy/core/_methods.py:153: RuntimeWarning: invalid value encountered in true_divide\n",
      "  ret = um.true_divide(\n",
      "/home/jonfrey/miniconda3/envs/track4/lib/python3.8/site-packages/numpy/core/_methods.py:216: RuntimeWarning: Degrees of freedom <= 0 for slice\n",
      "  ret = _var(a, axis=axis, dtype=dtype, out=out, ddof=ddof,\n",
      "/home/jonfrey/miniconda3/envs/track4/lib/python3.8/site-packages/numpy/core/_methods.py:185: RuntimeWarning: invalid value encountered in true_divide\n",
      "  arrmean = um.true_divide(\n",
      "/home/jonfrey/miniconda3/envs/track4/lib/python3.8/site-packages/numpy/core/_methods.py:206: RuntimeWarning: invalid value encountered in true_divide\n",
      "  ret = um.true_divide(\n"
     ]
    }
   ],
   "source": [
    "stats = []\n",
    "\n",
    "objects = 21\n",
    "for i in range(1, objects+1):\n",
    "    try:\n",
    "        mask = indexes == i\n",
    "        me = poses[mask][:,:,3].mean(axis=0)\n",
    "        std = poses[mask][:,:,3].std(axis=0)\n",
    "\n",
    "        mi_val = poses[mask][:,:,3].min(axis=0)\n",
    "        ma_val = poses[mask][:,:,3].max(axis=0)\n",
    "\n",
    "\n",
    "        count_correlated = np.zeros(( objects ))\n",
    "        for j in scene_indexes[mask]:\n",
    "            for n in j:\n",
    "                count_correlated[n-1] += 1\n",
    "\n",
    "        # prior equally distributed\n",
    "        count_correlated += int( count_correlated.sum() /objects )\n",
    "        count_correlated /= count_correlated.sum() \n",
    "        stat = { 'indexes': i-1,\n",
    "                  'count_correlated': count_correlated,\n",
    "                  'mean': me,\n",
    "                'std': std,\n",
    "                'min_val': mi_val,\n",
    "               'max_val': ma_val}\n",
    "        stats.append(stat)\n",
    "    except:\n",
    "        pass"
   ]
  },
  {
   "cell_type": "code",
   "execution_count": 6,
   "id": "2dcde36a",
   "metadata": {},
   "outputs": [
    {
     "data": {
      "text/plain": [
       "[{'indexes': 0,\n",
       "  'count_correlated': array([0.12388503, 0.02378593, 0.02378593, 0.02378593, 0.02378593,\n",
       "         0.12388503, 0.02378593, 0.02378593, 0.02378593, 0.02378593,\n",
       "         0.02378593, 0.02378593, 0.02378593, 0.12388503, 0.02378593,\n",
       "         0.02378593, 0.02378593, 0.02378593, 0.12388503, 0.12388503,\n",
       "         0.02378593]),\n",
       "  'mean': array([ 0.034563  , -0.0189746 ,  0.95579533]),\n",
       "  'std': array([0.025139  , 0.01580016, 0.04074526]),\n",
       "  'min_val': array([-0.04640624, -0.07112153,  0.85733027]),\n",
       "  'max_val': array([0.07696573, 0.01945863, 1.03167229])},\n",
       " {'indexes': 5,\n",
       "  'count_correlated': array([0.12388503, 0.02378593, 0.02378593, 0.02378593, 0.02378593,\n",
       "         0.12388503, 0.02378593, 0.02378593, 0.02378593, 0.02378593,\n",
       "         0.02378593, 0.02378593, 0.02378593, 0.12388503, 0.02378593,\n",
       "         0.02378593, 0.02378593, 0.02378593, 0.12388503, 0.12388503,\n",
       "         0.02378593]),\n",
       "  'mean': array([0.0520984 , 0.06080572, 0.89227263]),\n",
       "  'std': array([0.01901096, 0.01594288, 0.03770202]),\n",
       "  'min_val': array([0.00355768, 0.00641259, 0.80229707]),\n",
       "  'max_val': array([0.10777387, 0.09914604, 0.96405633])},\n",
       " {'indexes': 13,\n",
       "  'count_correlated': array([0.12388503, 0.02378593, 0.02378593, 0.02378593, 0.02378593,\n",
       "         0.12388503, 0.02378593, 0.02378593, 0.02378593, 0.02378593,\n",
       "         0.02378593, 0.02378593, 0.02378593, 0.12388503, 0.02378593,\n",
       "         0.02378593, 0.02378593, 0.02378593, 0.12388503, 0.12388503,\n",
       "         0.02378593]),\n",
       "  'mean': array([ 0.03971956, -0.10618063,  0.92973127]),\n",
       "  'std': array([0.02658776, 0.0157904 , 0.04001929]),\n",
       "  'min_val': array([-0.04385232, -0.15846583,  0.8358999 ]),\n",
       "  'max_val': array([ 0.08547316, -0.06766588,  1.00566514])},\n",
       " {'indexes': 18,\n",
       "  'count_correlated': array([0.12388503, 0.02378593, 0.02378593, 0.02378593, 0.02378593,\n",
       "         0.12388503, 0.02378593, 0.02378593, 0.02378593, 0.02378593,\n",
       "         0.02378593, 0.02378593, 0.02378593, 0.12388503, 0.02378593,\n",
       "         0.02378593, 0.02378593, 0.02378593, 0.12388503, 0.12388503,\n",
       "         0.02378593]),\n",
       "  'mean': array([ 0.11080715, -0.00488358,  0.93378311]),\n",
       "  'std': array([0.02238551, 0.01901807, 0.0286409 ]),\n",
       "  'min_val': array([ 0.03514766, -0.06617465,  0.86397895]),\n",
       "  'max_val': array([0.15399791, 0.04038018, 0.99199393])},\n",
       " {'indexes': 19,\n",
       "  'count_correlated': array([0.12388503, 0.02378593, 0.02378593, 0.02378593, 0.02378593,\n",
       "         0.12388503, 0.02378593, 0.02378593, 0.02378593, 0.02378593,\n",
       "         0.02378593, 0.02378593, 0.02378593, 0.12388503, 0.02378593,\n",
       "         0.02378593, 0.02378593, 0.02378593, 0.12388503, 0.12388503,\n",
       "         0.02378593]),\n",
       "  'mean': array([-0.03927745,  0.09601702,  0.78517584]),\n",
       "  'std': array([0.02797742, 0.0122998 , 0.05221629]),\n",
       "  'min_val': array([-0.08920763,  0.05280677,  0.66711843]),\n",
       "  'max_val': array([0.03900389, 0.12269739, 0.8793516 ])}]"
      ]
     },
     "execution_count": 6,
     "metadata": {},
     "output_type": "execute_result"
    }
   ],
   "source": [
    "stats"
   ]
  },
  {
   "cell_type": "code",
   "execution_count": 7,
   "id": "7d6f7fc3",
   "metadata": {},
   "outputs": [
    {
     "name": "stdout",
     "output_type": "stream",
     "text": [
      "START\n"
     ]
    },
    {
     "data": {
      "text/plain": [
       "<pyrender.node.Node at 0x7fb6be8cd820>"
      ]
     },
     "execution_count": 7,
     "metadata": {},
     "output_type": "execute_result"
    }
   ],
   "source": [
    "import numpy as np\n",
    "import trimesh\n",
    "import pyrender\n",
    "import matplotlib.pyplot as plt\n",
    "import os\n",
    "print(\"START\")\n",
    "os.environ[\"PYOPENGL_PLATFORM\"] = \"egl\"\n",
    "\n",
    "obj = trimesh.load('/media/scratch2/jonfrey/ycb/models/002_master_chef_can/textured.obj')\n",
    "mesh = pyrender.Mesh.from_trimesh(obj)\n",
    "scene = pyrender.Scene()\n",
    "scene.add(mesh)\n",
    "\n",
    "K = meta[\"intrinsic_matrix\"]\n",
    "\n",
    "camera = pyrender.camera.IntrinsicsCamera( K[0,0], K[1,1], K[0,2], K[1,2] )\n",
    "                                 \n",
    "s = np.sqrt(2)/2\n",
    "camera_pose = np.array([\n",
    "   [0.0, -s,   s,   0.3],\n",
    "   [1.0,  0.0, 0.0, 0.0],\n",
    "   [0.0,  s,   s,   0.35],\n",
    "   [0.0,  0.0, 0.0, 1.0],\n",
    "])\n",
    "scene.add(camera, pose=camera_pose)\n",
    "light = pyrender.SpotLight(color=np.ones(3), intensity=3.0,\n",
    "                           innerConeAngle=np.pi/16.0,\n",
    "                           outerConeAngle=np.pi/6.0)\n",
    "scene.add(light, pose=camera_pose)\n",
    "r = pyrender.OffscreenRenderer(400, 400)\n",
    "# color, depth = r.render(scene)\n",
    "# plt.figure()\n",
    "# plt.subplot(1,2,1)\n",
    "# plt.axis('off')\n",
    "# plt.imshow(color)\n",
    "# plt.subplot(1,2,2)\n",
    "# plt.axis('off')\n",
    "# plt.imshow(depth, cmap=plt.cm.gray_r)\n",
    "# plt.show()"
   ]
  },
  {
   "cell_type": "code",
   "execution_count": null,
   "id": "617e43b6",
   "metadata": {},
   "outputs": [],
   "source": [
    "r = pyrender.OffscreenRenderer(400, 400)"
   ]
  }
 ],
 "metadata": {
  "kernelspec": {
   "display_name": "track4",
   "language": "python",
   "name": "track4"
  },
  "language_info": {
   "codemirror_mode": {
    "name": "ipython",
    "version": 3
   },
   "file_extension": ".py",
   "mimetype": "text/x-python",
   "name": "python",
   "nbconvert_exporter": "python",
   "pygments_lexer": "ipython3",
   "version": "3.8.5"
  }
 },
 "nbformat": 4,
 "nbformat_minor": 5
}
