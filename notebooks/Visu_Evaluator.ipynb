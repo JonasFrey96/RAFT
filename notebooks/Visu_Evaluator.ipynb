{
 "cells": [
  {
   "cell_type": "code",
   "execution_count": null,
   "id": "801fff2f",
   "metadata": {},
   "outputs": [],
   "source": [
    "import pickle\n",
    "import numpy as np\n",
    "\n",
    "with open('/home/jonfrey/RPOSE/notebooks/Mode.MUTIPLE_INIT_POSES_data.pkl', 'rb') as handle:\n",
    "    res = pickle.load(handle)\n"
   ]
  },
  {
   "cell_type": "code",
   "execution_count": null,
   "id": "03f3bb9e",
   "metadata": {},
   "outputs": [],
   "source": [
    "i = np.unique( res['add_s'][:,0] != np.inf , return_index=True)[1][0]\n",
    "\n",
    "add_s = res['add_s'][:i]\n",
    "adds = res['adds'][:i]\n",
    "idx_arr = res['idx_arr'][:i]\n",
    "ratios_arr = res['ratios_arr'][:i]\n",
    "valid_corrospondences = res['valid_corrospondences'][:i]\n",
    "\n",
    "\n",
    "add_s_finite = np.isfinite( add_s )\n",
    "(add_s_finite == False).sum()"
   ]
  },
  {
   "cell_type": "code",
   "execution_count": null,
   "id": "7a109a99",
   "metadata": {},
   "outputs": [],
   "source": [
    "import matplotlib.pyplot as plt\n",
    "\n",
    "colors = ['r','g','b','y']\n",
    "for i,c in enumerate( colors ):\n",
    "    plt.scatter(add_s[:,i], ratios_arr[:,i], marker='^', c=c)\n"
   ]
  },
  {
   "cell_type": "code",
   "execution_count": null,
   "id": "f1575fdd",
   "metadata": {},
   "outputs": [],
   "source": [
    "import matplotlib.pyplot as plt\n",
    "\n",
    "colors = ['r','g','b','y']\n",
    "for i,c in enumerate( colors ):\n",
    "    plt.scatter(add_s[:,i], valid_corrospondences[:,i], marker='^', c=c)\n"
   ]
  },
  {
   "cell_type": "code",
   "execution_count": null,
   "id": "45dff188",
   "metadata": {},
   "outputs": [],
   "source": [
    "import os\n",
    "import sys \n",
    "os.chdir(os.path.join(os.getenv('HOME'), 'RPOSE'))\n",
    "sys.path.insert(0, os.getcwd())\n",
    "sys.path.append(os.path.join(os.getcwd() + '/src'))\n",
    "sys.path.append(os.path.join(os.getcwd() + '/core'))\n",
    "sys.path.append(os.path.join(os.getcwd() + '/segmentation'))\n",
    "from pose_estimation import compute_auc"
   ]
  },
  {
   "cell_type": "code",
   "execution_count": null,
   "id": "fc878ffc",
   "metadata": {},
   "outputs": [],
   "source": [
    "import matplotlib.pyplot as plt\n",
    "\n",
    "colors = ['r','g','b','y']\n",
    "valid_corrospondences_c = np.copy(valid_corrospondences)\n",
    "for i,c in enumerate( colors ):\n",
    "    \n",
    "    sel2 = np.argmax( valid_corrospondences_c ,axis = 1)\n",
    "    sel2 = np.eye(valid_corrospondences_c.shape[1])[sel2] == 1\n",
    "    print(sel2.shape, valid_corrospondences_c.shape, add_s.shape)\n",
    "    plt.scatter(add_s[sel2], valid_corrospondences_c[sel2], marker='^', c=c)\n",
    "    valid_corrospondences_c[sel2] = 0\n",
    "    \n",
    "    print(i, \"ADD_S mean:\", compute_auc(add_s[sel2]), add_s[sel2].std() )\n",
    "    \n",
    "\"\"\"\n",
    "Pre adkustment rn\n",
    "final after 4th-iteration:  0.0\n",
    "Mean 1th-iteration:  73.1523865334785\n",
    "AUC best over all iterations:  82.48291583779532\n",
    "Best RANSAC ratios:  74.72968842977514\n",
    "AUC best valids:  63.494756761699556\n",
    "INIT ADDS PoseCNN:  61.59185394119376\n",
    "\"\"\""
   ]
  },
  {
   "cell_type": "code",
   "execution_count": null,
   "id": "31d435ce",
   "metadata": {},
   "outputs": [],
   "source": [
    "import matplotlib.pyplot as plt\n",
    "\n",
    "\n",
    "colors = ['r','g','b','y']\n",
    "\n",
    "ratios_arr_c = np.copy(ratios_arr)\n",
    "for i,c in enumerate( colors ):\n",
    "    \n",
    "    sel2 = np.argmax( ratios_arr_c ,axis = 1)\n",
    "    sel2 = np.eye(ratios_arr_c.shape[1])[sel2] == 1\n",
    "    print(sel2.shape, ratios_arr_c.shape, add_s.shape)\n",
    "    plt.scatter(add_s[sel2], ratios_arr_c[sel2], marker='^', c=c)\n",
    "    ratios_arr_c[sel2] = -999\n",
    "    \n",
    "    print(i, \"ADD_S AUC:\",compute_auc( add_s[sel2] ) )\n",
    "    \n",
    "print (\"Average: \" ,compute_auc( add_s.reshape( (-1)) ) )"
   ]
  },
  {
   "cell_type": "code",
   "execution_count": null,
   "id": "b3261aae",
   "metadata": {},
   "outputs": [],
   "source": [
    "ratios_arr[:,i]"
   ]
  },
  {
   "cell_type": "code",
   "execution_count": null,
   "id": "af682fd7",
   "metadata": {},
   "outputs": [],
   "source": [
    "import matplotlib.pyplot as plt\n",
    "\n",
    "colors = ['r','g','b','y']\n",
    "for i,c in enumerate( colors ):\n",
    "    plt.scatter(add_s[:,i], ratios_arr[:,i], marker='^', c=c)\n"
   ]
  },
  {
   "cell_type": "code",
   "execution_count": null,
   "id": "1fe15c10",
   "metadata": {},
   "outputs": [],
   "source": [
    "import matplotlib.pyplot as plt\n",
    "import numpy as np\n",
    "\n",
    "# Fixing random state for reproducibility\n",
    "np.random.seed(19680801)\n",
    "\n",
    "\n",
    "N = 100\n",
    "r0 = 0.6\n",
    "x = 0.9 * np.random.rand(N)\n",
    "y = 0.9 * np.random.rand(N)\n",
    "area = (20 * np.random.rand(N))**2  # 0 to 10 point radii\n",
    "c = np.sqrt(area)\n",
    "r = np.sqrt(x ** 2 + y ** 2)\n",
    "area1 = np.ma.masked_where(r < r0, area)\n",
    "area2 = np.ma.masked_where(r >= r0, area)\n",
    "plt.scatter(x, y, s=area1, marker='^', c=c)\n",
    "plt.scatter(x, y, s=area2, marker='o', c=c)\n",
    "# Show the boundary between the regions:\n",
    "theta = np.arange(0, np.pi / 2, 0.01)\n",
    "plt.plot(r0 * np.cos(theta), r0 * np.sin(theta))\n",
    "\n",
    "plt.show()"
   ]
  }
 ],
 "metadata": {
  "kernelspec": {
   "display_name": "track4",
   "language": "python",
   "name": "track4"
  },
  "language_info": {
   "codemirror_mode": {
    "name": "ipython",
    "version": 3
   },
   "file_extension": ".py",
   "mimetype": "text/x-python",
   "name": "python",
   "nbconvert_exporter": "python",
   "pygments_lexer": "ipython3",
   "version": "3.8.5"
  }
 },
 "nbformat": 4,
 "nbformat_minor": 5
}
