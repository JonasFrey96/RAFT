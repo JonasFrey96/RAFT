{
 "cells": [
  {
   "cell_type": "code",
   "execution_count": null,
   "id": "6a6fc037",
   "metadata": {},
   "outputs": [],
   "source": [
    "import pickle\n",
    "import pandas as pd\n",
    "\n",
    "p1 = \"/home/jonfrey/results/rpose/evaluate/full_evaluation/results.pkl\"\n",
    "p2 = \"/home/jonfrey/results/rpose/evaluate_pose/2021-04-24T10:19:18_tracking_with_gt_pose/results.pkl\"\n",
    "with open(p1 , 'rb') as handle:\n",
    "    res = pickle.load(handle)\n",
    "\n",
    "pred_auc_add_s = { k:round(v,2) for (k,v) in res.items() if ( k.find('AUC_ADD_S') != -1 and k.find('PRED') != -1)}\n",
    "init_auc_add_s = { k:round(v,2) for (k,v) in res.items() if ( k.find('AUC_ADD_S') != -1 and k.find('INIT') != -1)}\n",
    "\n",
    "pred_auc_add_s\n",
    "init_auc_add_s\n",
    "\n",
    "pred_auc_add_s_ls = [ round(v,2) for (k,v) in res.items() if ( k.find('AUC_ADD_S') != -1 and k.find('PRED') != -1)]\n",
    "init_auc_add_s_ls = [ round(v,2) for (k,v) in res.items() if ( k.find('AUC_ADD_S') != -1 and k.find('INIT') != -1)]\n",
    "\n",
    "pred_auc_adds_ls = [ round(v,2) for (k,v) in res.items() if ( k.find('AUC_ADDS') != -1 and k.find('PRED') != -1)]\n",
    "init_auc_adds_ls = [ round(v,2) for (k,v) in res.items() if ( k.find('AUC_ADDS') != -1 and k.find('INIT') != -1)]\n",
    "\n",
    "pred_2cm_add_s_ls = [ round(v,2) for (k,v) in res.items() if ( k.find('2CM_ADD_S') != -1 and k.find('PRED') != -1)]\n",
    "init_2cm_add_s_ls = [ round(v,2) for (k,v) in res.items() if ( k.find('2CM_ADD_S') != -1 and k.find('INIT') != -1)]\n",
    "\n",
    "pred_2cm_adds_ls = [ round(v,2) for (k,v) in res.items() if ( k.find('2CM_ADDS') != -1 and k.find('PRED') != -1)]\n",
    "init_2cm_adds_ls = [ round(v,2) for (k,v) in res.items() if ( k.find('2CM_ADDS') != -1 and k.find('INIT') != -1)]\n",
    "\n",
    "d = {'IDX':list(range(21)), \n",
    "     'AUC_ADD_S_INIT': init_auc_add_s_ls, 'AUC_ADD_S_PRED': pred_auc_add_s_ls,\n",
    "    'AUC_ADDS_INIT': init_auc_adds_ls, 'AUC_ADDS_PRED': pred_auc_adds_ls\n",
    "    }\n",
    "df = pd.DataFrame(data=d)\n",
    "df\n"
   ]
  },
  {
   "cell_type": "code",
   "execution_count": null,
   "id": "c03cc535",
   "metadata": {},
   "outputs": [],
   "source": [
    "from pytorch_lightning.loggers.neptune import NeptuneLogger\n",
    "import os\n",
    "logger = NeptuneLogger(\n",
    "          api_key=os.environ[\"NEPTUNE_API_TOKEN\"],\n",
    "          project_name=\"jonasfrey96/rpose\",\n",
    "          experiment_id='RPOS-340',\n",
    "          close_after_fit = False,\n",
    "        )\n",
    "logger.experiment\n",
    "\n",
    "d = logger.experiment.get_channels()\n",
    "ar = []\n",
    "for e in d.keys():\n",
    "    try:  \n",
    "        ar.append( logger.experiment.get_numeric_channels_values( e ) ) \n",
    "    except:\n",
    "        pass\n",
    "dic = {}\n",
    "for data in ar:\n",
    "    k = str( data.keys()[1] ) \n",
    "    dic[k] =  data[k].to_numpy()"
   ]
  },
  {
   "cell_type": "code",
   "execution_count": null,
   "id": "22e69045",
   "metadata": {},
   "outputs": [],
   "source": [
    "_add_s = {k:v.tolist() for (k,v) in dic.items() if (str(k).find(\"add_s_obj\")  != -1 and str(k).find(\"_step\")  != -1 )} \n",
    "_adds = {k:v.tolist() for (k,v) in dic.items() if (str(k).find(\"adds_obj\")  != -1 and str(k).find(\"_step\")  != -1  )}\n",
    "list(_add_s.keys())"
   ]
  },
  {
   "cell_type": "code",
   "execution_count": null,
   "id": "e30905da",
   "metadata": {},
   "outputs": [],
   "source": [
    "with open(f'cfg/datasets/ycb/train.pkl', 'rb') as handle:\n",
    "      mappings = pickle.load(handle)\n",
    "      _names_idx = mappings['names_idx']\n",
    "      _idx_names = mappings['idx_names']\n",
    "        \n"
   ]
  },
  {
   "cell_type": "code",
   "execution_count": null,
   "id": "8f93683a",
   "metadata": {},
   "outputs": [],
   "source": [
    "import os\n",
    "import sys \n",
    "import numpy as np\n",
    "os.chdir(os.path.join(os.getenv('HOME'), 'RPOSE'))\n",
    "sys.path.insert(0, os.getcwd())\n",
    "sys.path.append(os.path.join(os.getcwd() + '/src'))\n",
    "sys.path.append(os.path.join(os.getcwd() + '/core'))\n",
    "sys.path.append(os.path.join(os.getcwd() + '/segmentation'))\n",
    "from pose_estimation import full_pose_estimation, compute_auc, compute_percentage\n",
    "\n",
    "\n",
    "adds_auc = {}\n",
    "add_s_auc = {}\n",
    "get_obj = lambda x: int( x[x.find(\"obj\")+3 : x.find(\"_step\")] )\n",
    "k1 = list( _adds.keys() )\n",
    "k1.sort(key= get_obj )\n",
    "k2 = list( _add_s.keys() )\n",
    "k2.sort(key= get_obj )\n",
    "\n",
    "\n",
    "\n",
    "for index_key in k1:\n",
    "    adds_auc[ str(get_obj(index_key)) ] = round( compute_auc( np.array( _adds[index_key] )),2)\n",
    "for index_key in k2:\n",
    "    add_s_auc[ str( get_obj(index_key) ) ] = round( compute_auc( np.array(_add_s[index_key] )) ,2)\n",
    "\n",
    "dicta = { 'IDX': list(add_s_auc.keys() ), 'Name': list( _idx_names.keys() ), 'ADD-(S)':  list(add_s_auc.values() ),  'ADDS':  list(adds_auc.values() )}\n",
    "\n",
    "pd.DataFrame.from_dict( dicta ) # , columns= ['obj', 'val'])"
   ]
  },
  {
   "cell_type": "code",
   "execution_count": null,
   "id": "d42c0d50",
   "metadata": {},
   "outputs": [],
   "source": [
    "# PUTS ALL DATA INTO PROPERTIES\n",
    "\n",
    "\n",
    "\n",
    "properties = {}\n",
    "for index_key in _adds.keys():\n",
    "  if len( _adds[index_key] ) > 0:\n",
    "    properties['MEAN_ADDS__OBJ('+index_key+\")_PRED_CM\" ] = round( sum( _adds[index_key]) / len(_adds[index_key] ) *100,2)\n",
    "for index_key in _add_s.keys():\n",
    "  if len( _add_s[index_key] ) > 0:        \n",
    "    properties['MEAN_ADD_S_OBJ('+index_key+\")_PRED_CM\" ] = round( sum( _add_s[index_key]) / len( _add_s[index_key] ) *100,2)\n",
    "\n",
    "for index_key in _adds.keys():\n",
    "  if len( _adds[index_key] ) > 0:\n",
    "    properties['2CM_ADDS_OBJ('+index_key+\")_PRED\"] = round( compute_percentage( np.array( _adds[index_key] ))  ,2)\n",
    "for index_key in _add_s.keys():\n",
    "  if len(_add_s[index_key] ) > 0:\n",
    "    properties['2CM_ADD_S_OBJ('+index_key+\")_PRED\"] = round( compute_percentage( np.array( _add_s[index_key] ))  ,2)\n",
    "\n",
    "kk = list( properties.keys())\n",
    "kk.sort()\n"
   ]
  },
  {
   "cell_type": "code",
   "execution_count": null,
   "id": "e809d3cb",
   "metadata": {},
   "outputs": [],
   "source": [
    "ks = [ k for k  in list(d.keys()) if (str(k).find(\"adds_obj\")  != -1 and str(k).find(\"_step\")  != -1  ) ]\n",
    "ks.sort(key=lambda x: int( x[x.find(\"obj\")+3 : x.find(\"_step\")] ) )\n",
    "logger.experiment.get_numeric_channels_values( *ks )"
   ]
  }
 ],
 "metadata": {
  "kernelspec": {
   "display_name": "track4",
   "language": "python",
   "name": "track4"
  },
  "language_info": {
   "codemirror_mode": {
    "name": "ipython",
    "version": 3
   },
   "file_extension": ".py",
   "mimetype": "text/x-python",
   "name": "python",
   "nbconvert_exporter": "python",
   "pygments_lexer": "ipython3",
   "version": "3.8.5"
  }
 },
 "nbformat": 4,
 "nbformat_minor": 5
}
