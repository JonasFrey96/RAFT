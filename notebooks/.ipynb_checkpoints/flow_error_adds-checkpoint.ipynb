{
 "cells": [
  {
   "cell_type": "code",
   "execution_count": null,
   "id": "acce65ac",
   "metadata": {},
   "outputs": [],
   "source": [
    "import os\n",
    "import sys\n",
    "\n",
    "os.chdir(os.path.join(os.getenv('HOME'), 'RPOSE'))\n",
    "sys.path.insert(0, os.getcwd())\n",
    "sys.path.append(os.path.join(os.getcwd() + '/src'))\n",
    "sys.path.append(os.path.join(os.getcwd() + '/core'))\n",
    "sys.path.append(os.path.join(os.getcwd() + '/segmentation'))\n",
    "\n",
    "import datasets\n",
    "import yaml\n",
    "from src_utils import load_yaml\n",
    "exp = load_yaml('cfg/exp/final/3_template/add-s-to-epe.yml')\n",
    "env = load_yaml(os.path.join('cfg/env', os.environ['ENV_WORKSTATION_NAME']+ '.yml'))"
   ]
  },
  {
   "cell_type": "code",
   "execution_count": null,
   "id": "9a4a147e",
   "metadata": {},
   "outputs": [],
   "source": [
    "test_dataloader = datasets.fetch_dataloader( exp['test_dataset'], env )"
   ]
  },
  {
   "cell_type": "code",
   "execution_count": null,
   "id": "37b8c821",
   "metadata": {},
   "outputs": [],
   "source": [
    "import pickle\n",
    "fi = \"/home/jonfrey/RPOSE/notebooks/Mode.MUTIPLE_INIT_POSES_debug_train_and_test_data_final.pkl\"\n"
   ]
  }
 ],
 "metadata": {
  "kernelspec": {
   "display_name": "track4",
   "language": "python",
   "name": "track4"
  },
  "language_info": {
   "codemirror_mode": {
    "name": "ipython",
    "version": 3
   },
   "file_extension": ".py",
   "mimetype": "text/x-python",
   "name": "python",
   "nbconvert_exporter": "python",
   "pygments_lexer": "ipython3",
   "version": "3.8.5"
  }
 },
 "nbformat": 4,
 "nbformat_minor": 5
}
