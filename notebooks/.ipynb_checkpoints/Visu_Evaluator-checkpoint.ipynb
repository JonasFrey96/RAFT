{
 "cells": [
  {
   "cell_type": "code",
   "execution_count": null,
   "id": "6084f4b3",
   "metadata": {},
   "outputs": [],
   "source": [
    "import pickle\n",
    "import numpy as np\n",
    "\n",
    "with open('/home/jonfrey/RPOSE/notebooks/Mode.MUTIPLE_INIT_POSES_data.pkl', 'rb') as handle:\n",
    "    res = pickle.load(handle)\n"
   ]
  },
  {
   "cell_type": "code",
   "execution_count": null,
   "id": "c03050bf",
   "metadata": {},
   "outputs": [],
   "source": [
    "i = np.unique( res['add_s'][:,0] != np.inf , return_index=True)[1][0]\n",
    "\n",
    "add_s = res['add_s'][:i]\n",
    "adds = res['adds'][:i]\n",
    "idx_arr = res['idx_arr'][:i]\n",
    "ratios_arr = res['ratios_arr'][:i]\n",
    "valid_corrospondences = res['valid_corrospondences'][:i]\n"
   ]
  },
  {
   "cell_type": "code",
   "execution_count": null,
   "id": "83f4295d",
   "metadata": {},
   "outputs": [],
   "source": [
    "import matplotlib.pyplot as plt\n",
    "\n",
    "colors = ['r','g','b','y']\n",
    "for i,c in enumerate( colors ):\n",
    "    plt.scatter(add_s[:,i], ratios_arr[:,i], marker='^', c=c)\n"
   ]
  },
  {
   "cell_type": "code",
   "execution_count": null,
   "id": "7bfc295c",
   "metadata": {},
   "outputs": [],
   "source": [
    "import matplotlib.pyplot as plt\n",
    "\n",
    "colors = ['r','g','b','y']\n",
    "for i,c in enumerate( colors ):\n",
    "    plt.scatter(add_s[:,i], valid_corrospondences[:,i], marker='^', c=c)\n"
   ]
  },
  {
   "cell_type": "code",
   "execution_count": null,
   "id": "c6da4928",
   "metadata": {},
   "outputs": [],
   "source": [
    "import matplotlib.pyplot as plt\n",
    "\n",
    "colors = ['r','g','b','y']\n",
    "valid_corrospondences_c = np.copy(valid_corrospondences)\n",
    "for i,c in enumerate( colors ):\n",
    "    \n",
    "    sel2 = np.argmax( valid_corrospondences_c ,axis = 1)\n",
    "    sel2 = np.eye(valid_corrospondences_c.shape[1])[sel2] == 1\n",
    "    print(sel2.shape, valid_corrospondences_c.shape, add_s.shape)\n",
    "    plt.scatter(add_s[sel2], valid_corrospondences_c[sel2], marker='^', c=c)\n",
    "    valid_corrospondences_c[sel2] = 0\n",
    "    \n",
    "    print(i, \"ADD_S mean:\", add_s[sel2].mean(), add_s[sel2].std() )\n",
    "    \n",
    "\"\"\"\n",
    "Pre adkustment rn\n",
    "final after 4th-iteration:  0.0\n",
    "Mean 1th-iteration:  73.1523865334785\n",
    "AUC best over all iterations:  82.48291583779532\n",
    "Best RANSAC ratios:  74.72968842977514\n",
    "AUC best valids:  63.494756761699556\n",
    "INIT ADDS PoseCNN:  61.59185394119376\n",
    "\n",
    "\"\"\""
   ]
  },
  {
   "cell_type": "code",
   "execution_count": null,
   "id": "7b600641",
   "metadata": {},
   "outputs": [],
   "source": [
    "import matplotlib.pyplot as plt\n",
    "\n",
    "colors = ['r','g','b','y']\n",
    "valid_corrospondences_c = np.copy(valid_corrospondences)\n",
    "for i,c in enumerate( colors ):\n",
    "    \n",
    "    sel2 = np.argmax( valid_corrospondences_c ,axis = 1)\n",
    "    sel2 = np.eye(valid_corrospondences_c.shape[1])[sel2] == 1\n",
    "    print(sel2.shape, valid_corrospondences_c.shape, add_s.shape)\n",
    "    plt.scatter(add_s[sel2], valid_corrospondences_c[sel2], marker='^', c=c)\n",
    "    valid_corrospondences_c[sel2] = 0\n",
    "    \n",
    "    print(i, \"ADD_S mean:\", add_s[sel2].mean() )"
   ]
  },
  {
   "cell_type": "code",
   "execution_count": null,
   "id": "b70b96b1",
   "metadata": {},
   "outputs": [],
   "source": [
    "ratios_arr[:,i]"
   ]
  },
  {
   "cell_type": "code",
   "execution_count": null,
   "id": "ef2e2bb0",
   "metadata": {},
   "outputs": [],
   "source": [
    "import matplotlib.pyplot as plt\n",
    "\n",
    "colors = ['r','g','b','y']\n",
    "for i,c in enumerate( colors ):\n",
    "    plt.scatter(add_s[:,i], ratios_arr[:,i], marker='^', c=c)\n"
   ]
  },
  {
   "cell_type": "code",
   "execution_count": null,
   "id": "64da67bf",
   "metadata": {},
   "outputs": [],
   "source": [
    "import matplotlib.pyplot as plt\n",
    "import numpy as np\n",
    "\n",
    "# Fixing random state for reproducibility\n",
    "np.random.seed(19680801)\n",
    "\n",
    "\n",
    "N = 100\n",
    "r0 = 0.6\n",
    "x = 0.9 * np.random.rand(N)\n",
    "y = 0.9 * np.random.rand(N)\n",
    "area = (20 * np.random.rand(N))**2  # 0 to 10 point radii\n",
    "c = np.sqrt(area)\n",
    "r = np.sqrt(x ** 2 + y ** 2)\n",
    "area1 = np.ma.masked_where(r < r0, area)\n",
    "area2 = np.ma.masked_where(r >= r0, area)\n",
    "plt.scatter(x, y, s=area1, marker='^', c=c)\n",
    "plt.scatter(x, y, s=area2, marker='o', c=c)\n",
    "# Show the boundary between the regions:\n",
    "theta = np.arange(0, np.pi / 2, 0.01)\n",
    "plt.plot(r0 * np.cos(theta), r0 * np.sin(theta))\n",
    "\n",
    "plt.show()"
   ]
  }
 ],
 "metadata": {
  "kernelspec": {
   "display_name": "track4",
   "language": "python",
   "name": "track4"
  },
  "language_info": {
   "codemirror_mode": {
    "name": "ipython",
    "version": 3
   },
   "file_extension": ".py",
   "mimetype": "text/x-python",
   "name": "python",
   "nbconvert_exporter": "python",
   "pygments_lexer": "ipython3",
   "version": "3.8.5"
  }
 },
 "nbformat": 4,
 "nbformat_minor": 5
}
